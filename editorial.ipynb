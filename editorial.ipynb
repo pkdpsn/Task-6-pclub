{
 "cells": [
  {
   "cell_type": "code",
   "execution_count": 3,
   "id": "29409051",
   "metadata": {},
   "outputs": [],
   "source": [
    "\n",
    "### Editorial\n",
    "#In this code we have solved this code recursively ,Staring with ( then then next place ){}\n",
    "#recursively checking the condition if we \n",
    "#can place } or ) .\n",
    "#Since this works on correctly on base cases , and as it is just an recursion using induction \n",
    "#we can say that it is correct for bigger values of input \n"
   ]
  },
  {
   "cell_type": "code",
   "execution_count": null,
   "id": "12254496",
   "metadata": {},
   "outputs": [],
   "source": []
  },
  {
   "cell_type": "code",
   "execution_count": null,
   "id": "669b438a",
   "metadata": {},
   "outputs": [],
   "source": []
  }
 ],
 "metadata": {
  "kernelspec": {
   "display_name": "Python 3 (ipykernel)",
   "language": "python",
   "name": "python3"
  },
  "language_info": {
   "codemirror_mode": {
    "name": "ipython",
    "version": 3
   },
   "file_extension": ".py",
   "mimetype": "text/x-python",
   "name": "python",
   "nbconvert_exporter": "python",
   "pygments_lexer": "ipython3",
   "version": "3.9.12"
  }
 },
 "nbformat": 4,
 "nbformat_minor": 5
}
