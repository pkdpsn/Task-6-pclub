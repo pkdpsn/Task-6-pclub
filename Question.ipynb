#### Balanced Parenthesis

Pranjal passed from his fifth standard and now knows about Bodmas. (bracket, of , division, multiplication, addition, subtraction) . A parenthesis sequence is a string containing only characters "(" and ")"  "{" and"}".

A **_correct parenthesis sequence_** is a parenthesis sequence that can be transformed into a correct arithmetic expression by inserting characters "1" and "+" between the original characters of the sequence. For example, parenthesis sequences "()()", "(())" are correct (the resulting expressions are: "(1+1)+(1+1)", "((1+1)+1)"), while ")(" and ")" are not. Note that the empty string is a correct parenthesis sequence by definition. 
Moving on, Pranjal decided to list sequences of correct parenthesis using two brackets () and {}.
Help pranjal make a list of possible correct output for a given no of (,) given by n and { , } given by m.
A correct sequence of parenthesis is the one where '')'' comes only after at least one "(" and similar for {}.
Also, give preference to printing ( first than {.
For example, correct sequences are
*   (){}
*   ({})
*   {()}
*   {}()
Sequence like {)(} or }{() are not correct .
Help pranjal by writing a code for the same.

##INPUT 
Take input of 2 integers n and m, both respectively no of () and {}.
##OUTPUT 
Print possible outcomes in one line starting with ( rathter than { i.e (){} and {}() give preference to printing first option first .
## TEST CASE 1
n=2 , m=0
*  (())
*  ()()
## TEST CASE 2
n=1 , m=1
*   (){}
*   ({})
*   {()}
*   {}()


