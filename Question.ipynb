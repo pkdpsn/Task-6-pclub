{
 "cells": [
  {
   "cell_type": "markdown",
   "id": "0e7024b4",
   "metadata": {},
   "source": [
    "#### Balanced Parenthesis\n",
    "\n",
    "Pranjal passed from his 5th standard and now knows about Bodmas.(bracket , of , division , multiplication , addition , substraction) . A parenthesis sequence is a string, containing only characters \"(\" and \")\"  \"{\" and\"}\"\n",
    "\n",
    "A *_correct parenthesis sequence_* is a parenthesis sequence that can be transformed into a correct arithmetic expression by inserting characters \"1\" and \"+\" between the original characters of the sequence. For example, parenthesis sequences \"()()\", \"(())\" are correct (the resulting expressions are: \"(1+1)+(1+1)\", \"((1+1)+1)\"), while \")(\" and \")\" are not. Note that the empty string is a correct parenthesis sequence by definition. \n",
    "Moving on Pranjal decided to list sequences of correct parenthesis using two brackets () and {}.\n",
    "help pranjal make list of off possible correct output for a given no of (,) given by n and { , } given by m.\n",
    "A correct sequence of parenthesis is the one where '')'' comes only after atleast one \"(\" and similar for {}.\n",
    "Also give preference to printing ( first than {.\n",
    "For example correct sequences are\n",
    "*   (){}\n",
    "*   ({})\n",
    "*   {()}\n",
    "*   {}()\n",
    "Sequence like {)(} or }{() are not correct .\n",
    "Help pranjal by writing a code for same.\n",
    "\n",
    "##INPUT \n",
    "Take input of 2 integers n and m both repectively no of () and {}.\n",
    "##OUTPUT \n",
    "Print possible outcomes in one line starting with ( rathter than { i.e (){} and {}() give preference to printing first option first .\n"
   ]
  },
  {
   "cell_type": "code",
   "execution_count": null,
   "id": "5a52cf87",
   "metadata": {},
   "outputs": [],
   "source": []
  }
 ],
 "metadata": {
  "kernelspec": {
   "display_name": "Python 3 (ipykernel)",
   "language": "python",
   "name": "python3"
  },
  "language_info": {
   "codemirror_mode": {
    "name": "ipython",
    "version": 3
   },
   "file_extension": ".py",
   "mimetype": "text/x-python",
   "name": "python",
   "nbconvert_exporter": "python",
   "pygments_lexer": "ipython3",
   "version": "3.9.12"
  }
 },
 "nbformat": 4,
 "nbformat_minor": 5
}
